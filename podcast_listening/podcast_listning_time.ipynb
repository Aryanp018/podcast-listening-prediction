{
 "cells": [
  {
   "cell_type": "code",
   "execution_count": null,
   "id": "03d640cd-2f3a-44f3-9aa2-eccbe9f35e3f",
   "metadata": {},
   "outputs": [],
   "source": []
  }
 ],
 "metadata": {
  "kernelspec": {
   "display_name": "",
   "name": ""
  },
  "language_info": {
   "name": ""
  }
 },
 "nbformat": 4,
 "nbformat_minor": 5
}
